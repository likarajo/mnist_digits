{
  "nbformat": 4,
  "nbformat_minor": 0,
  "metadata": {
    "colab": {
      "name": "ml_neural-networks_multiclass.ipynb",
      "provenance": [],
      "collapsed_sections": []
    },
    "kernelspec": {
      "name": "python3",
      "display_name": "Python 3"
    },
    "accelerator": "GPU"
  },
  "cells": [
    {
      "cell_type": "markdown",
      "metadata": {
        "id": "TL5y5fY9Jy_x"
      },
      "source": [
        "# Neural Networks: Multi-Class Classification"
      ]
    },
    {
      "cell_type": "markdown",
      "metadata": {
        "id": "xchnxAsaKKqO"
      },
      "source": [
        "## Import relevant modules"
      ]
    },
    {
      "cell_type": "code",
      "metadata": {
        "id": "9n9_cTveKmse"
      },
      "source": [
        "from __future__ import absolute_import, division, print_function, unicode_literals\n",
        "\n",
        "import numpy as np\n",
        "np.set_printoptions(linewidth = 200)\n",
        "\n",
        "import pandas as pd\n",
        "pd.options.display.max_rows = 10\n",
        "pd.options.display.float_format = \"{:.1f}\".format\n",
        "\n",
        "%tensorflow_version 2.x\n",
        "import tensorflow as tf\n",
        "from tensorflow.keras import layers\n",
        "\n",
        "from matplotlib import pyplot as plt"
      ],
      "execution_count": null,
      "outputs": []
    },
    {
      "cell_type": "markdown",
      "metadata": {
        "id": "X_TaJhU4KcuY"
      },
      "source": [
        "## Get Data\n",
        "  \n",
        "This MNIST dataset contains a lot of examples:\n",
        "* The MNIST training set contains 60,000 examples.\n",
        "* The MNIST test set contains 10,000 examples. \n",
        "\n",
        "Each example in the MNIST dataset consists of:\n",
        "* A label is an integer from 0 to 9; 10 output classes.\n",
        "* A 28x28 pixel map, where each pixel is an integer between 0 and 255. The pixel values are on a gray scale in which 0 represents white, 255 represents black, and values between 0 and 255 represent various shades of gray.\n",
        "\n",
        "`tf.keras` provides a set of convenience functions for loading well-known datasets. Each of these convenience functions does the following:\n",
        "\n",
        "* Loads both the training set and the test set.\n",
        "* Separates each set into features and labels.\n",
        "\n",
        "The relevant convenience function for MNIST is called `mnist.load_data()`.\n",
        "The data is already shuffled."
      ]
    },
    {
      "cell_type": "code",
      "metadata": {
        "id": "JZlvdpyYKx7V",
        "colab": {
          "base_uri": "https://localhost:8080/"
        },
        "outputId": "1eca60a9-4dad-4cfc-e767-5928bff87743"
      },
      "source": [
        "(x_train, y_train),(x_test, y_test) = tf.keras.datasets.mnist.load_data()"
      ],
      "execution_count": null,
      "outputs": [
        {
          "output_type": "stream",
          "text": [
            "Downloading data from https://storage.googleapis.com/tensorflow/tf-keras-datasets/mnist.npz\n",
            "11493376/11490434 [==============================] - 0s 0us/step\n"
          ],
          "name": "stdout"
        }
      ]
    },
    {
      "cell_type": "markdown",
      "metadata": {
        "id": "71vsSUM7pdmu"
      },
      "source": [
        "## Explore the data\n",
        "\n",
        "MNIST data does not contain column names. Instead of column names, you use ordinal numbers to access different subsets of the MNIST dataset. \n",
        "* `x_train` and `x_test` are three-dimensional NumPy arrays.  \n",
        "* Use `matplotlib.pyplot.imshow` to interpret the numeric array as an image.\n",
        "\n"
      ]
    },
    {
      "cell_type": "code",
      "metadata": {
        "id": "siRC8a1hJvmq",
        "colab": {
          "base_uri": "https://localhost:8080/",
          "height": 282
        },
        "outputId": "dcda1575-4953-43f0-a187-7ace09e19708"
      },
      "source": [
        "plt.imshow(x_train[0])"
      ],
      "execution_count": null,
      "outputs": [
        {
          "output_type": "execute_result",
          "data": {
            "text/plain": [
              "<matplotlib.image.AxesImage at 0x7fae849a2b38>"
            ]
          },
          "metadata": {
            "tags": []
          },
          "execution_count": 3
        },
        {
          "output_type": "display_data",
          "data": {
            "image/png": "[encoded data removed]",
            "text/plain": [
              "<Figure size 432x288 with 1 Axes>"
            ]
          },
          "metadata": {
            "tags": [],
            "needs_background": "light"
          }
        }
      ]
    },
    {
      "cell_type": "code",
      "metadata": {
        "colab": {
          "base_uri": "https://localhost:8080/"
        },
        "id": "zRI0tyIJ7Hy_",
        "outputId": "470e8cf8-c3a5-4322-f9dc-124f148ffb59"
      },
      "source": [
        "x_train[0]"
      ],
      "execution_count": null,
      "outputs": [
        {
          "output_type": "execute_result",
          "data": {
            "text/plain": [
              "array([[  0,   0,   0,   0,   0,   0,   0,   0,   0,   0,   0,   0,   0,   0,   0,   0,   0,   0,   0,   0,   0,   0,   0,   0,   0,   0,   0,   0],\n",
              "       [  0,   0,   0,   0,   0,   0,   0,   0,   0,   0,   0,   0,   0,   0,   0,   0,   0,   0,   0,   0,   0,   0,   0,   0,   0,   0,   0,   0],\n",
              "       [  0,   0,   0,   0,   0,   0,   0,   0,   0,   0,   0,   0,   0,   0,   0,   0,   0,   0,   0,   0,   0,   0,   0,   0,   0,   0,   0,   0],\n",
              "       [  0,   0,   0,   0,   0,   0,   0,   0,   0,   0,   0,   0,   0,   0,   0,   0,   0,   0,   0,   0,   0,   0,   0,   0,   0,   0,   0,   0],\n",
              "       [  0,   0,   0,   0,   0,   0,   0,   0,   0,   0,   0,   0,   0,   0,   0,   0,   0,   0,   0,   0,   0,   0,   0,   0,   0,   0,   0,   0],\n",
              "       [  0,   0,   0,   0,   0,   0,   0,   0,   0,   0,   0,   0,   3,  18,  18,  18, 126, 136, 175,  26, 166, 255, 247, 127,   0,   0,   0,   0],\n",
              "       [  0,   0,   0,   0,   0,   0,   0,   0,  30,  36,  94, 154, 170, 253, 253, 253, 253, 253, 225, 172, 253, 242, 195,  64,   0,   0,   0,   0],\n",
              "       [  0,   0,   0,   0,   0,   0,   0,  49, 238, 253, 253, 253, 253, 253, 253, 253, 253, 251,  93,  82,  82,  56,  39,   0,   0,   0,   0,   0],\n",
              "       [  0,   0,   0,   0,   0,   0,   0,  18, 219, 253, 253, 253, 253, 253, 198, 182, 247, 241,   0,   0,   0,   0,   0,   0,   0,   0,   0,   0],\n",
              "       [  0,   0,   0,   0,   0,   0,   0,   0,  80, 156, 107, 253, 253, 205,  11,   0,  43, 154,   0,   0,   0,   0,   0,   0,   0,   0,   0,   0],\n",
              "       [  0,   0,   0,   0,   0,   0,   0,   0,   0,  14,   1, 154, 253,  90,   0,   0,   0,   0,   0,   0,   0,   0,   0,   0,   0,   0,   0,   0],\n",
              "       [  0,   0,   0,   0,   0,   0,   0,   0,   0,   0,   0, 139, 253, 190,   2,   0,   0,   0,   0,   0,   0,   0,   0,   0,   0,   0,   0,   0],\n",
              "       [  0,   0,   0,   0,   0,   0,   0,   0,   0,   0,   0,  11, 190, 253,  70,   0,   0,   0,   0,   0,   0,   0,   0,   0,   0,   0,   0,   0],\n",
              "       [  0,   0,   0,   0,   0,   0,   0,   0,   0,   0,   0,   0,  35, 241, 225, 160, 108,   1,   0,   0,   0,   0,   0,   0,   0,   0,   0,   0],\n",
              "       [  0,   0,   0,   0,   0,   0,   0,   0,   0,   0,   0,   0,   0,  81, 240, 253, 253, 119,  25,   0,   0,   0,   0,   0,   0,   0,   0,   0],\n",
              "       [  0,   0,   0,   0,   0,   0,   0,   0,   0,   0,   0,   0,   0,   0,  45, 186, 253, 253, 150,  27,   0,   0,   0,   0,   0,   0,   0,   0],\n",
              "       [  0,   0,   0,   0,   0,   0,   0,   0,   0,   0,   0,   0,   0,   0,   0,  16,  93, 252, 253, 187,   0,   0,   0,   0,   0,   0,   0,   0],\n",
              "       [  0,   0,   0,   0,   0,   0,   0,   0,   0,   0,   0,   0,   0,   0,   0,   0,   0, 249, 253, 249,  64,   0,   0,   0,   0,   0,   0,   0],\n",
              "       [  0,   0,   0,   0,   0,   0,   0,   0,   0,   0,   0,   0,   0,   0,  46, 130, 183, 253, 253, 207,   2,   0,   0,   0,   0,   0,   0,   0],\n",
              "       [  0,   0,   0,   0,   0,   0,   0,   0,   0,   0,   0,   0,  39, 148, 229, 253, 253, 253, 250, 182,   0,   0,   0,   0,   0,   0,   0,   0],\n",
              "       [  0,   0,   0,   0,   0,   0,   0,   0,   0,   0,  24, 114, 221, 253, 253, 253, 253, 201,  78,   0,   0,   0,   0,   0,   0,   0,   0,   0],\n",
              "       [  0,   0,   0,   0,   0,   0,   0,   0,  23,  66, 213, 253, 253, 253, 253, 198,  81,   2,   0,   0,   0,   0,   0,   0,   0,   0,   0,   0],\n",
              "       [  0,   0,   0,   0,   0,   0,  18, 171, 219, 253, 253, 253, 253, 195,  80,   9,   0,   0,   0,   0,   0,   0,   0,   0,   0,   0,   0,   0],\n",
              "       [  0,   0,   0,   0,  55, 172, 226, 253, 253, 253, 253, 244, 133,  11,   0,   0,   0,   0,   0,   0,   0,   0,   0,   0,   0,   0,   0,   0],\n",
              "       [  0,   0,   0,   0, 136, 253, 253, 253, 212, 135, 132,  16,   0,   0,   0,   0,   0,   0,   0,   0,   0,   0,   0,   0,   0,   0,   0,   0],\n",
              "       [  0,   0,   0,   0,   0,   0,   0,   0,   0,   0,   0,   0,   0,   0,   0,   0,   0,   0,   0,   0,   0,   0,   0,   0,   0,   0,   0,   0],\n",
              "       [  0,   0,   0,   0,   0,   0,   0,   0,   0,   0,   0,   0,   0,   0,   0,   0,   0,   0,   0,   0,   0,   0,   0,   0,   0,   0,   0,   0],\n",
              "       [  0,   0,   0,   0,   0,   0,   0,   0,   0,   0,   0,   0,   0,   0,   0,   0,   0,   0,   0,   0,   0,   0,   0,   0,   0,   0,   0,   0]], dtype=uint8)"
            ]
          },
          "metadata": {
            "tags": []
          },
          "execution_count": 4
        }
      ]
    },
    {
      "cell_type": "code",
      "metadata": {
        "id": "V-he9IcihDxb",
        "colab": {
          "base_uri": "https://localhost:8080/"
        },
        "outputId": "9e1db59f-ffa4-44f8-b0f2-ae6460374e24"
      },
      "source": [
        "x_train[0][10]"
      ],
      "execution_count": null,
      "outputs": [
        {
          "output_type": "execute_result",
          "data": {
            "text/plain": [
              "array([  0,   0,   0,   0,   0,   0,   0,   0,   0,  14,   1, 154, 253,  90,   0,   0,   0,   0,   0,   0,   0,   0,   0,   0,   0,   0,   0,   0], dtype=uint8)"
            ]
          },
          "metadata": {
            "tags": []
          },
          "execution_count": 5
        }
      ]
    },
    {
      "cell_type": "code",
      "metadata": {
        "id": "DUEWipalhQ8J",
        "colab": {
          "base_uri": "https://localhost:8080/"
        },
        "outputId": "83e0b9a8-5648-4456-fdb4-a6d61b60c3d8"
      },
      "source": [
        "x_train[0][10][11]"
      ],
      "execution_count": null,
      "outputs": [
        {
          "output_type": "execute_result",
          "data": {
            "text/plain": [
              "154"
            ]
          },
          "metadata": {
            "tags": []
          },
          "execution_count": 6
        }
      ]
    },
    {
      "cell_type": "markdown",
      "metadata": {
        "id": "8ldP-5z1B2vL"
      },
      "source": [
        "## Normalize feature values"
      ]
    },
    {
      "cell_type": "code",
      "metadata": {
        "id": "4YQljE-wizDw"
      },
      "source": [
        "x_train_normalized = x_train / 255.0\n",
        "x_test_normalized = x_test / 255.0"
      ],
      "execution_count": null,
      "outputs": []
    },
    {
      "cell_type": "markdown",
      "metadata": {
        "id": "ZBWRF6CStuNA"
      },
      "source": [
        "## Define a plotting function\n",
        "\n",
        "To plot the accuracy curve"
      ]
    },
    {
      "cell_type": "code",
      "metadata": {
        "id": "QF0BFRXTOeR3"
      },
      "source": [
        "def plot_curve(epochs, hist, list_of_metrics):\n",
        "  plt.figure()\n",
        "  plt.xlabel(\"Epoch\")\n",
        "  plt.ylabel(\"Value\")\n",
        "  for m in list_of_metrics:\n",
        "    x = hist[m]\n",
        "    plt.plot(epochs[1:], x[1:], label=m)\n",
        "  plt.legend()"
      ],
      "execution_count": null,
      "outputs": []
    },
    {
      "cell_type": "markdown",
      "metadata": {
        "id": "3014ezH3C7jT"
      },
      "source": [
        "## Define model train function"
      ]
    },
    {
      "cell_type": "code",
      "metadata": {
        "id": "pedD5GhlDC-y",
        "cellView": "both"
      },
      "source": [
        "def train_model(model, train_features, train_label, epochs, batch_size=None, validation_split=0.1):\n",
        "  history = model.fit(x=train_features, y=train_label, batch_size=batch_size, epochs=epochs, shuffle=True, validation_split=validation_split)\n",
        "  epochs = history.epoch\n",
        "  hist = pd.DataFrame(history.history)\n",
        "  return epochs, hist    "
      ],
      "execution_count": null,
      "outputs": []
    },
    {
      "cell_type": "markdown",
      "metadata": {
        "id": "D-IXYVfvM4gD"
      },
      "source": [
        "## Create and train model"
      ]
    },
    {
      "cell_type": "code",
      "metadata": {
        "id": "nj3v5EKQFY8s",
        "cellView": "both",
        "colab": {
          "base_uri": "https://localhost:8080/",
          "height": 1000
        },
        "outputId": "03d63c86-1776-4ee3-fa07-1cda4178601e"
      },
      "source": [
        "# Set the hyperparameters.\n",
        "learning_rate = 0.003\n",
        "epochs = 50\n",
        "batch_size = 4000\n",
        "validation_split = 0.2\n",
        "\n",
        "# Establish the model's topography.\n",
        "model = tf.keras.models.Sequential()\n",
        "model.add(tf.keras.layers.Flatten(input_shape=(28, 28)))\n",
        "model.add(tf.keras.layers.Dense(units=32, activation='relu'))\n",
        "model.add(tf.keras.layers.Dropout(rate=0.2))\n",
        "model.add(tf.keras.layers.Dense(units=10, activation='softmax'))     \n",
        "model.compile(\n",
        "    loss=\"sparse_categorical_crossentropy\",\n",
        "    metrics=['accuracy'],\n",
        "    optimizer=tf.keras.optimizers.Adam(lr=learning_rate)\n",
        ")\n",
        "\n",
        "# Train the model on the normalized training set.\n",
        "epochs, hist = train_model(model, x_train_normalized, y_train, epochs, batch_size, validation_split)\n",
        "\n",
        "# Plot a graph of the metric vs. epochs.\n",
        "list_of_metrics_to_plot = ['accuracy']\n",
        "plot_curve(epochs, hist, list_of_metrics_to_plot)\n",
        "\n",
        "# Evaluate against the test set.\n",
        "model.evaluate(x=x_test_normalized, y=y_test, batch_size=batch_size)"
      ],
      "execution_count": null,
      "outputs": [
        {
          "output_type": "stream",
          "text": [
            "Epoch 1/50\n",
            "12/12 [==============================] - 2s 43ms/step - loss: 1.9483 - accuracy: 0.3577 - val_loss: 0.9875 - val_accuracy: 0.7574\n",
            "Epoch 2/50\n",
            "12/12 [==============================] - 0s 12ms/step - loss: 0.9900 - accuracy: 0.7136 - val_loss: 0.5387 - val_accuracy: 0.8594\n",
            "Epoch 3/50\n",
            "12/12 [==============================] - 0s 12ms/step - loss: 0.6763 - accuracy: 0.7930 - val_loss: 0.4163 - val_accuracy: 0.8892\n",
            "Epoch 4/50\n",
            "12/12 [==============================] - 0s 12ms/step - loss: 0.5412 - accuracy: 0.8395 - val_loss: 0.3599 - val_accuracy: 0.9017\n",
            "Epoch 5/50\n",
            "12/12 [==============================] - 0s 12ms/step - loss: 0.4728 - accuracy: 0.8626 - val_loss: 0.3233 - val_accuracy: 0.9113\n",
            "Epoch 6/50\n",
            "12/12 [==============================] - 0s 12ms/step - loss: 0.4325 - accuracy: 0.8732 - val_loss: 0.3016 - val_accuracy: 0.9169\n",
            "Epoch 7/50\n",
            "12/12 [==============================] - 0s 12ms/step - loss: 0.3985 - accuracy: 0.8837 - val_loss: 0.2824 - val_accuracy: 0.9211\n",
            "Epoch 8/50\n",
            "12/12 [==============================] - 0s 11ms/step - loss: 0.3810 - accuracy: 0.8892 - val_loss: 0.2688 - val_accuracy: 0.9253\n",
            "Epoch 9/50\n",
            "12/12 [==============================] - 0s 12ms/step - loss: 0.3603 - accuracy: 0.8940 - val_loss: 0.2572 - val_accuracy: 0.9282\n",
            "Epoch 10/50\n",
            "12/12 [==============================] - 0s 11ms/step - loss: 0.3500 - accuracy: 0.8973 - val_loss: 0.2473 - val_accuracy: 0.9304\n",
            "Epoch 11/50\n",
            "12/12 [==============================] - 0s 12ms/step - loss: 0.3353 - accuracy: 0.9016 - val_loss: 0.2378 - val_accuracy: 0.9335\n",
            "Epoch 12/50\n",
            "12/12 [==============================] - 0s 12ms/step - loss: 0.3187 - accuracy: 0.9070 - val_loss: 0.2303 - val_accuracy: 0.9345\n",
            "Epoch 13/50\n",
            "12/12 [==============================] - 0s 11ms/step - loss: 0.3106 - accuracy: 0.9088 - val_loss: 0.2242 - val_accuracy: 0.9376\n",
            "Epoch 14/50\n",
            "12/12 [==============================] - 0s 19ms/step - loss: 0.3034 - accuracy: 0.9124 - val_loss: 0.2194 - val_accuracy: 0.9381\n",
            "Epoch 15/50\n",
            "12/12 [==============================] - 0s 12ms/step - loss: 0.2925 - accuracy: 0.9145 - val_loss: 0.2137 - val_accuracy: 0.9387\n",
            "Epoch 16/50\n",
            "12/12 [==============================] - 0s 12ms/step - loss: 0.2922 - accuracy: 0.9139 - val_loss: 0.2084 - val_accuracy: 0.9409\n",
            "Epoch 17/50\n",
            "12/12 [==============================] - 0s 12ms/step - loss: 0.2792 - accuracy: 0.9189 - val_loss: 0.2037 - val_accuracy: 0.9424\n",
            "Epoch 18/50\n",
            "12/12 [==============================] - 0s 12ms/step - loss: 0.2846 - accuracy: 0.9150 - val_loss: 0.1996 - val_accuracy: 0.9440\n",
            "Epoch 19/50\n",
            "12/12 [==============================] - 0s 11ms/step - loss: 0.2672 - accuracy: 0.9229 - val_loss: 0.1948 - val_accuracy: 0.9445\n",
            "Epoch 20/50\n",
            "12/12 [==============================] - 0s 11ms/step - loss: 0.2645 - accuracy: 0.9213 - val_loss: 0.1924 - val_accuracy: 0.9448\n",
            "Epoch 21/50\n",
            "12/12 [==============================] - 0s 12ms/step - loss: 0.2574 - accuracy: 0.9242 - val_loss: 0.1892 - val_accuracy: 0.9457\n",
            "Epoch 22/50\n",
            "12/12 [==============================] - 0s 12ms/step - loss: 0.2565 - accuracy: 0.9235 - val_loss: 0.1842 - val_accuracy: 0.9472\n",
            "Epoch 23/50\n",
            "12/12 [==============================] - 0s 12ms/step - loss: 0.2505 - accuracy: 0.9269 - val_loss: 0.1827 - val_accuracy: 0.9477\n",
            "Epoch 24/50\n",
            "12/12 [==============================] - 0s 11ms/step - loss: 0.2376 - accuracy: 0.9294 - val_loss: 0.1788 - val_accuracy: 0.9482\n",
            "Epoch 25/50\n",
            "12/12 [==============================] - 0s 11ms/step - loss: 0.2437 - accuracy: 0.9267 - val_loss: 0.1776 - val_accuracy: 0.9491\n",
            "Epoch 26/50\n",
            "12/12 [==============================] - 0s 11ms/step - loss: 0.2366 - accuracy: 0.9296 - val_loss: 0.1740 - val_accuracy: 0.9502\n",
            "Epoch 27/50\n",
            "12/12 [==============================] - 0s 11ms/step - loss: 0.2332 - accuracy: 0.9319 - val_loss: 0.1715 - val_accuracy: 0.9511\n",
            "Epoch 28/50\n",
            "12/12 [==============================] - 0s 11ms/step - loss: 0.2326 - accuracy: 0.9290 - val_loss: 0.1707 - val_accuracy: 0.9509\n",
            "Epoch 29/50\n",
            "12/12 [==============================] - 0s 11ms/step - loss: 0.2285 - accuracy: 0.9317 - val_loss: 0.1682 - val_accuracy: 0.9517\n",
            "Epoch 30/50\n",
            "12/12 [==============================] - 0s 11ms/step - loss: 0.2213 - accuracy: 0.9342 - val_loss: 0.1670 - val_accuracy: 0.9513\n",
            "Epoch 31/50\n",
            "12/12 [==============================] - 0s 13ms/step - loss: 0.2200 - accuracy: 0.9341 - val_loss: 0.1646 - val_accuracy: 0.9525\n",
            "Epoch 32/50\n",
            "12/12 [==============================] - 0s 11ms/step - loss: 0.2191 - accuracy: 0.9338 - val_loss: 0.1635 - val_accuracy: 0.9534\n",
            "Epoch 33/50\n",
            "12/12 [==============================] - 0s 12ms/step - loss: 0.2145 - accuracy: 0.9358 - val_loss: 0.1623 - val_accuracy: 0.9535\n",
            "Epoch 34/50\n",
            "12/12 [==============================] - 0s 11ms/step - loss: 0.2121 - accuracy: 0.9355 - val_loss: 0.1605 - val_accuracy: 0.9539\n",
            "Epoch 35/50\n",
            "12/12 [==============================] - 0s 12ms/step - loss: 0.2064 - accuracy: 0.9372 - val_loss: 0.1593 - val_accuracy: 0.9533\n",
            "Epoch 36/50\n",
            "12/12 [==============================] - 0s 14ms/step - loss: 0.2132 - accuracy: 0.9358 - val_loss: 0.1570 - val_accuracy: 0.9545\n",
            "Epoch 37/50\n",
            "12/12 [==============================] - 0s 11ms/step - loss: 0.2026 - accuracy: 0.9380 - val_loss: 0.1547 - val_accuracy: 0.9547\n",
            "Epoch 38/50\n",
            "12/12 [==============================] - 0s 12ms/step - loss: 0.1957 - accuracy: 0.9410 - val_loss: 0.1543 - val_accuracy: 0.9552\n",
            "Epoch 39/50\n",
            "12/12 [==============================] - 0s 12ms/step - loss: 0.1947 - accuracy: 0.9403 - val_loss: 0.1543 - val_accuracy: 0.9548\n",
            "Epoch 40/50\n",
            "12/12 [==============================] - 0s 19ms/step - loss: 0.1940 - accuracy: 0.9406 - val_loss: 0.1532 - val_accuracy: 0.9554\n",
            "Epoch 41/50\n",
            "12/12 [==============================] - 0s 12ms/step - loss: 0.1925 - accuracy: 0.9424 - val_loss: 0.1511 - val_accuracy: 0.9567\n",
            "Epoch 42/50\n",
            "12/12 [==============================] - 0s 12ms/step - loss: 0.1950 - accuracy: 0.9400 - val_loss: 0.1503 - val_accuracy: 0.9562\n",
            "Epoch 43/50\n",
            "12/12 [==============================] - 0s 12ms/step - loss: 0.1902 - accuracy: 0.9421 - val_loss: 0.1485 - val_accuracy: 0.9557\n",
            "Epoch 44/50\n",
            "12/12 [==============================] - 0s 13ms/step - loss: 0.1890 - accuracy: 0.9414 - val_loss: 0.1493 - val_accuracy: 0.9550\n",
            "Epoch 45/50\n",
            "12/12 [==============================] - 0s 12ms/step - loss: 0.1846 - accuracy: 0.9441 - val_loss: 0.1479 - val_accuracy: 0.9559\n",
            "Epoch 46/50\n",
            "12/12 [==============================] - 0s 12ms/step - loss: 0.1882 - accuracy: 0.9427 - val_loss: 0.1460 - val_accuracy: 0.9569\n",
            "Epoch 47/50\n",
            "12/12 [==============================] - 0s 12ms/step - loss: 0.1837 - accuracy: 0.9424 - val_loss: 0.1450 - val_accuracy: 0.9567\n",
            "Epoch 48/50\n",
            "12/12 [==============================] - 0s 12ms/step - loss: 0.1787 - accuracy: 0.9455 - val_loss: 0.1454 - val_accuracy: 0.9567\n",
            "Epoch 49/50\n",
            "12/12 [==============================] - 0s 12ms/step - loss: 0.1817 - accuracy: 0.9436 - val_loss: 0.1437 - val_accuracy: 0.9582\n",
            "Epoch 50/50\n",
            "12/12 [==============================] - 0s 12ms/step - loss: 0.1790 - accuracy: 0.9452 - val_loss: 0.1428 - val_accuracy: 0.9582\n",
            "3/3 [==============================] - 0s 6ms/step - loss: 0.1433 - accuracy: 0.9573\n"
          ],
          "name": "stdout"
        },
        {
          "output_type": "execute_result",
          "data": {
            "text/plain": [
              "[0.14329248666763306, 0.9573000073432922]"
            ]
          },
          "metadata": {
            "tags": []
          },
          "execution_count": 10
        },
        {
          "output_type": "display_data",
          "data": {
            "image/png": "[encoded data removed]",
            "text/plain": [
              "<Figure size 432x288 with 1 Axes>"
            ]
          },
          "metadata": {
            "tags": [],
            "needs_background": "light"
          }
        }
      ]
    },
    {
      "cell_type": "markdown",
      "metadata": {
        "id": "Y5IKmk7D49_n"
      },
      "source": [
        "## To optimize the model\n",
        "\n",
        "* Experiment with the following:\n",
        "  * number of hidden layers \n",
        "  * number of nodes in each layer\n",
        "  * dropout regularization rate\n",
        "  * learning rate\n",
        "  * batch size \n",
        "  * number of epochs\n",
        "* Searching for trends\n",
        "\n",
        "### Guides\n",
        "\n",
        "* Adding more nodes (at least until 256 nodes) to the first hidden layer improves accuracy.\n",
        "* Adding a second hidden layer generally improves accuracy.\n",
        "* When the model contains a lot of nodes, the model overfits unless the dropout rate is at least 0.5. \n",
        "\n",
        "### Sample observation\n",
        "98.2% test accuracy with the following configuration:\n",
        "* First hidden layer of 256 nodes\n",
        "* Second hidden layer of 128 nodes\n",
        "* Dropout regularization rate of 0.2\n",
        "\n",
        "\n"
      ]
    }
  ]
}